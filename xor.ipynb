{
 "cells": [
  {
   "cell_type": "markdown",
   "metadata": {},
   "source": [
    " XOR Problem Training on Tensorflow\n",
    " =================================="
   ]
  },
  {
   "cell_type": "markdown",
   "metadata": {},
   "source": [
    "Using one hidden layer with width equals to 3, and a `softplus` activate function in the \n",
    "hidden layer and `sigmoid` activate function in output layer.The loss function is defined \n",
    "as `sigmoid cross entropy with logits`. And the optimizer is `gradient descent`. Also \n",
    "different activate functions are compared with the final prediction outputs and loss \n",
    "function values.\n",
    "The details of the codes are shown below:\n",
    "\n",
    "--------------------------------------------"
   ]
  },
  {
   "cell_type": "markdown",
   "metadata": {},
   "source": [
    "## Step 1: import packages"
   ]
  },
  {
   "cell_type": "code",
   "execution_count": 1,
   "metadata": {},
   "outputs": [],
   "source": [
    "#!/usr/bin/python\n",
    "# coding:utf-8\n",
    "%matplotlib inline\n",
    "import tensorflow as tf\n",
    "import numpy as np\n",
    "import matplotlib.pyplot as plt"
   ]
  },
  {
   "cell_type": "markdown",
   "metadata": {},
   "source": [
    "## Step 2: define input and output label \n",
    "`placeholder` is used to annouce data without telling the specific values. Since only four kind of combinations of two bool values. Denote X=[[0, 0], [0, 1], [1, 0], [1, 1]], so X's shape is (4, 2). While for each combination of X, Y has to be labeled 1 or 0. So Y's shape is (4, 1)."
   ]
  },
  {
   "cell_type": "code",
   "execution_count": 3,
   "metadata": {},
   "outputs": [],
   "source": [
    "data = tf.placeholder(tf.float32, shape=(4, 2))\n",
    "label = tf.placeholder(tf.float32, shape=(4, 1))"
   ]
  },
  {
   "cell_type": "markdown",
   "metadata": {},
   "source": [
    "## Step 3: define neuro net layers\n",
    "Only two-layer network can solve the nonlinear problem. At first let the hidden layer contain only two nodes and adding bias to see the performance. Also, activate function mapping a discrete number into continuous number should be used. `sigmoid` is a first choice here."
   ]
  },
  {
   "cell_type": "code",
   "execution_count": 15,
   "metadata": {},
   "outputs": [],
   "source": [
    "with tf.variable_scope('layer1', reuse=True) as scope1:\n",
    "    weight = tf.get_variable(name=\"weight\", shape=(2, 2))\n",
    "    bias = tf.get_variable(name=\"bias\", shape=(2, ))\n",
    "    x = tf.nn.sigmoid(tf.matmul(data, weight) + bias)\n",
    "\n",
    "with tf.variable_scope('layer2', reuse=True) as scope2:\n",
    "    weight = tf.get_variable(name=\"weight\", shape=(2, 1))\n",
    "    bias = tf.get_variable(name=\"bias\", shape=(1,))\n",
    "    x = tf.matmul(x, weight) + bias"
   ]
  },
  {
   "cell_type": "markdown",
   "metadata": {},
   "source": [
    "## Step 4: define optimizer, loss function and other parameters\n",
    "* optimizer: gradient descent\n",
    "* loss function: sigmoid cross entropy with logits\n",
    "* learning rate: only define a placeholder here\n",
    "* predicts: another sigmoid transformation from the output layer input $Wx^T+b$"
   ]
  },
  {
   "cell_type": "code",
   "execution_count": 5,
   "metadata": {},
   "outputs": [],
   "source": [
    "preds = tf.nn.sigmoid(x)\n",
    "loss = tf.reduce_mean(tf.nn.sigmoid_cross_entropy_with_logits(labels=label, logits=x))\n",
    "learning_rate = tf.placeholder(tf.float32)\n",
    "optimizer = tf.train.GradientDescentOptimizer(learning_rate).minimize(loss)"
   ]
  },
  {
   "cell_type": "markdown",
   "metadata": {},
   "source": [
    "## Step 5: run the training session\n",
    "$\\bigoplus$ will tell how to give X and coresponding true Y label. But here just use tensorflow to randomly initialize all parameters including $W^{(1)}$ and $W^{(2)}$ in the two layers. Since sigmoid will be saturated when $Wx^T+b$ has a very large absolute value, the gradient of the loss function is very small no matter the sign of $z=Wx^T+b$ is correct. So the learning rate to control the speed or the step length should be decrease along with the decaying of the gradient. Choose number of step to be 10000. And see the optimizing process"
   ]
  },
  {
   "cell_type": "code",
   "execution_count": 16,
   "metadata": {},
   "outputs": [
    {
     "name": "stdout",
     "output_type": "stream",
     "text": [
      "Step:0 -> Loss:0.8330576419830322 -> Predictions[[ 0.77668262]\n",
      " [ 0.74938148]\n",
      " [ 0.73568475]\n",
      " [ 0.70992303]]\n",
      "Step:2000 -> Loss:0.005686067510396242 -> Predictions[[ 0.00548934]\n",
      " [ 0.99498749]\n",
      " [ 0.9925229 ]\n",
      " [ 0.00469841]]\n",
      "Step:4000 -> Loss:0.0034062867052853107 -> Predictions[[ 0.0032804 ]\n",
      " [ 0.99698359]\n",
      " [ 0.99551803]\n",
      " [ 0.00282239]]\n",
      "Step:6000 -> Loss:0.00317379180341959 -> Predictions[[ 0.00305541]\n",
      " [ 0.99718839]\n",
      " [ 0.99582338]\n",
      " [ 0.00263065]]\n",
      "Step:8000 -> Loss:0.0031515881419181824 -> Predictions[[ 0.00303387]\n",
      " [ 0.99720746]\n",
      " [ 0.99585235]\n",
      " [ 0.00261167]]\n",
      "Step:10000 -> Loss:0.0031295367516577244 -> Predictions[[ 0.00301248]\n",
      " [ 0.99722642]\n",
      " [ 0.99588096]\n",
      " [ 0.00259284]]\n"
     ]
    }
   ],
   "source": [
    "train_data = np.array([[0, 0], [0, 1], [1, 0], [1, 1]])\n",
    "train_label = np.array([[0], [1], [1], [0]])\n",
    "loss_val = []\n",
    "\n",
    "with tf.Session() as session1:\n",
    "    session1.run(tf.global_variables_initializer())\n",
    "    for step in range(10001):\n",
    "        if step < 3000:\n",
    "            lr = 1\n",
    "        elif step < 6000:\n",
    "            lr = 0.1\n",
    "        else:\n",
    "            lr = 0.01\n",
    "        _, l, pred = session1.run([optimizer, loss, preds],\n",
    "                                 feed_dict={data: train_data,\n",
    "                                            label: train_label,\n",
    "                                            learning_rate: lr})\n",
    "        loss_val.append([step, l])\n",
    "        if not step % 2000:\n",
    "            print('Step:{} -> Loss:{} -> Predictions{}'.format(step, l, pred))"
   ]
  },
  {
   "cell_type": "markdown",
   "metadata": {},
   "source": [
    "Finally see the loss function changes along with steps:"
   ]
  },
  {
   "cell_type": "code",
   "execution_count": 17,
   "metadata": {},
   "outputs": [
    {
     "data": {
      "text/plain": [
       "[<matplotlib.lines.Line2D at 0x21584e55390>]"
      ]
     },
     "execution_count": 17,
     "metadata": {},
     "output_type": "execute_result"
    },
    {
     "data": {
      "image/png": "[encoded data removed]",
      "text/plain": [
       "<matplotlib.figure.Figure at 0x21584f06e80>"
      ]
     },
     "metadata": {
      "needs_background": "light"
     },
     "output_type": "display_data"
    }
   ],
   "source": [
    "    loss_val = list(zip(*loss_val))\n",
    "    ii = range(0,10001,1000)\n",
    "    plt.plot(np.array(loss_val[0])[ii], np.array(loss_val[1])[ii], \"-.b\", label=\"loss\")"
   ]
  },
  {
   "cell_type": "markdown",
   "metadata": {},
   "source": [
    "## Step 6: change activate function and repeat\n",
    "Now use `relu` as the active function and observe its performance"
   ]
  },
  {
   "cell_type": "code",
   "execution_count": 22,
   "metadata": {},
   "outputs": [
    {
     "name": "stdout",
     "output_type": "stream",
     "text": [
      "Step:0 -> Loss:0.7216030359268188 -> Predictions[[ 0.62117428]\n",
      " [ 0.65270662]\n",
      " [ 0.57382947]\n",
      " [ 0.60689664]]\n",
      "Step:2000 -> Loss:0.006413618102669716 -> Predictions[[ 0.00748902]\n",
      " [ 0.99432474]\n",
      " [ 0.994165  ]\n",
      " [ 0.0065721 ]]\n",
      "Step:4000 -> Loss:0.0036590006202459335 -> Predictions[[ 0.00427587]\n",
      " [ 0.99674135]\n",
      " [ 0.99669468]\n",
      " [ 0.00376913]]\n",
      "Step:6000 -> Loss:0.003392611164599657 -> Predictions[[ 0.00396482]\n",
      " [ 0.99697709]\n",
      " [ 0.99693751]\n",
      " [ 0.00349689]]\n",
      "Step:8000 -> Loss:0.0033687071409076452 -> Predictions[[ 0.00393658]\n",
      " [ 0.99699759]\n",
      " [ 0.99695945]\n",
      " [ 0.00347225]]\n",
      "Step:10000 -> Loss:0.00334510812535882 -> Predictions[[ 0.00390853]\n",
      " [ 0.99701786]\n",
      " [ 0.99698013]\n",
      " [ 0.00344724]]\n"
     ]
    },
    {
     "data": {
      "image/png": "[encoded data removed]",
      "text/plain": [
       "<matplotlib.figure.Figure at 0x21584bc7ef0>"
      ]
     },
     "metadata": {
      "needs_background": "light"
     },
     "output_type": "display_data"
    }
   ],
   "source": [
    "with tf.variable_scope('layer1', reuse=True) as scope1:\n",
    "    weight = tf.get_variable(name=\"weight\", shape=(2, 2))\n",
    "    bias = tf.get_variable(name=\"bias\", shape=(2, ))\n",
    "    x = tf.nn.relu(tf.matmul(data, weight) + bias)  #  use relu\n",
    "\n",
    "with tf.variable_scope('layer2', reuse=True) as scope2:\n",
    "    weight = tf.get_variable(name=\"weight\", shape=(2, 1))\n",
    "    bias = tf.get_variable(name=\"bias\", shape=(1,))\n",
    "    x = tf.matmul(x, weight) + bias\n",
    "loss_val = []\n",
    "\n",
    "with tf.Session() as session2:\n",
    "    session2.run(tf.global_variables_initializer())\n",
    "    for step in range(10001):\n",
    "        if step < 3000:\n",
    "            lr = 1\n",
    "        elif step < 6000:\n",
    "            lr = 0.1\n",
    "        else:\n",
    "            lr = 0.01\n",
    "        _, l, pred = session2.run([optimizer, loss, preds],\n",
    "                                 feed_dict={data: train_data,\n",
    "                                            label: train_label,\n",
    "                                            learning_rate: lr})\n",
    "        loss_val.append([step, l])\n",
    "        if not step % 2000:\n",
    "            print('Step:{} -> Loss:{} -> Predictions{}'.format(step, l, pred))\n",
    "    loss_val = list(zip(*loss_val))\n",
    "    ii = range(0,10001,1000)\n",
    "    plt.plot(np.array(loss_val[0])[ii], np.array(loss_val[1])[ii], \"-.b\", label=\"loss\")"
   ]
  },
  {
   "cell_type": "markdown",
   "metadata": {},
   "source": [
    "The output seems equally close to the true value of Y."
   ]
  },
  {
   "cell_type": "markdown",
   "metadata": {},
   "source": [
    "## Step 7: extend the width of hidden layer to 3\n",
    "Use activate function of `softplus` and 3 nodes hidden layer."
   ]
  },
  {
   "cell_type": "code",
   "execution_count": 27,
   "metadata": {},
   "outputs": [
    {
     "name": "stdout",
     "output_type": "stream",
     "text": [
      "Step:0 -> Loss:0.7402983903884888 -> Predictions[[ 0.40322587]\n",
      " [ 0.58969802]\n",
      " [ 0.53222287]\n",
      " [ 0.72366446]]\n",
      "Step:2000 -> Loss:0.001349485944956541 -> Predictions[[  3.66075663e-04]\n",
      " [  9.99196231e-01]\n",
      " [  9.99198377e-01]\n",
      " [  3.41993035e-03]]\n",
      "Step:4000 -> Loss:0.0007112563471309841 -> Predictions[[  1.96797540e-04]\n",
      " [  9.99574482e-01]\n",
      " [  9.99576271e-01]\n",
      " [  1.79724977e-03]]\n",
      "Step:6000 -> Loss:0.0006474719848483801 -> Predictions[[  1.80565228e-04]\n",
      " [  9.99611318e-01]\n",
      " [  9.99612987e-01]\n",
      " [  1.63210044e-03]]\n",
      "Step:8000 -> Loss:0.000641752383671701 -> Predictions[[  1.78746704e-04]\n",
      " [  9.99614716e-01]\n",
      " [  9.99615669e-01]\n",
      " [  1.61727960e-03]]\n",
      "Step:10000 -> Loss:0.0006360916886478662 -> Predictions[[  1.76955073e-04]\n",
      " [  9.99618411e-01]\n",
      " [  9.99618530e-01]\n",
      " [  1.60293351e-03]]\n"
     ]
    },
    {
     "data": {
      "image/png": "[encoded data removed]",
      "text/plain": [
       "<matplotlib.figure.Figure at 0x215852e2668>"
      ]
     },
     "metadata": {
      "needs_background": "light"
     },
     "output_type": "display_data"
    }
   ],
   "source": [
    "with tf.variable_scope('layer1', reuse=True) as scope1:\n",
    "    weight11 = tf.get_variable(name=\"weight11\", shape=(2, 3))\n",
    "    bias11 = tf.get_variable(name=\"bias11\", shape=(3, ))  # use 3 nodes in hidden layer\n",
    "    x = tf.nn.softplus(tf.matmul(data, weight11) + bias11)  \n",
    "\n",
    "with tf.variable_scope('layer2', reuse=True) as scope2:\n",
    "    weight12 = tf.get_variable(name=\"weight12\", shape=(3, 1))\n",
    "    bias12 = tf.get_variable(name=\"bias12\", shape=(1,))\n",
    "    x = tf.matmul(x, weight12) + bias12\n",
    "loss_val = []\n",
    "preds = tf.nn.sigmoid(x)\n",
    "loss = tf.reduce_mean(tf.nn.sigmoid_cross_entropy_with_logits(labels=label, logits=x))\n",
    "learning_rate = tf.placeholder(tf.float32)\n",
    "optimizer = tf.train.GradientDescentOptimizer(learning_rate).minimize(loss)\n",
    "with tf.Session() as session3:\n",
    "    session3.run(tf.global_variables_initializer())\n",
    "    for step in range(10001):\n",
    "        if step < 3000:\n",
    "            lr = 1\n",
    "        elif step < 6000:\n",
    "            lr = 0.1\n",
    "        else:\n",
    "            lr = 0.01\n",
    "        _, l, pred = session3.run([optimizer, loss, preds],\n",
    "                                 feed_dict={data: train_data,\n",
    "                                            label: train_label,\n",
    "                                            learning_rate: lr})\n",
    "        loss_val.append([step, l])\n",
    "        if not step % 2000:\n",
    "            print('Step:{} -> Loss:{} -> Predictions{}'.format(step, l, pred))\n",
    "    loss_val = list(zip(*loss_val))\n",
    "    ii = range(0,10001,1000)\n",
    "    plt.plot(np.array(loss_val[0])[ii], np.array(loss_val[1])[ii], \"-.b\", label=\"loss\")"
   ]
  },
  {
   "cell_type": "markdown",
   "metadata": {},
   "source": [
    "A little bit confusing, `softplus` outperform `sigmoid` much better when the nodes of network is extended. If one step further, use sigmoid with 3 nodes in hidden layer. The improvement of extension of hidden layer is not that obvious when using `sigmoid` as activate function compared with `softplus`."
   ]
  },
  {
   "cell_type": "code",
   "execution_count": 28,
   "metadata": {},
   "outputs": [
    {
     "name": "stdout",
     "output_type": "stream",
     "text": [
      "Step:0 -> Loss:1.1650948524475098 -> Predictions[[ 0.88055176]\n",
      " [ 0.87456262]\n",
      " [ 0.90373427]\n",
      " [ 0.8997668 ]]\n",
      "Step:2000 -> Loss:0.004518677480518818 -> Predictions[[ 0.00494402]\n",
      " [ 0.99456489]\n",
      " [ 0.99628687]\n",
      " [ 0.00394065]]\n",
      "Step:4000 -> Loss:0.0025592688471078873 -> Predictions[[ 0.00280129]\n",
      " [ 0.99686253]\n",
      " [ 0.99796653]\n",
      " [ 0.00225129]]\n",
      "Step:6000 -> Loss:0.0023706930223852396 -> Predictions[[ 0.00259487]\n",
      " [ 0.99708742]\n",
      " [ 0.99812382]\n",
      " [ 0.00208762]]\n",
      "Step:8000 -> Loss:0.002353221643716097 -> Predictions[[ 0.00257421]\n",
      " [ 0.99710578]\n",
      " [ 0.99813819]\n",
      " [ 0.00207131]]\n",
      "Step:10000 -> Loss:0.002335874829441309 -> Predictions[[ 0.00255371]\n",
      " [ 0.99712402]\n",
      " [ 0.99815255]\n",
      " [ 0.00205511]]\n"
     ]
    },
    {
     "data": {
      "image/png": "[encoded data removed]",
      "text/plain": [
       "<matplotlib.figure.Figure at 0x2158521f208>"
      ]
     },
     "metadata": {
      "needs_background": "light"
     },
     "output_type": "display_data"
    }
   ],
   "source": [
    "with tf.variable_scope('layer1', reuse=True) as scope1:\n",
    "    weight11 = tf.get_variable(name=\"weight11\", shape=(2, 3))\n",
    "    bias11 = tf.get_variable(name=\"bias11\", shape=(3, ))  # use 3 nodes in hidden layer\n",
    "    x = tf.nn.sigmoid(tf.matmul(data, weight11) + bias11)  \n",
    "\n",
    "with tf.variable_scope('layer2', reuse=True) as scope2:\n",
    "    weight12 = tf.get_variable(name=\"weight12\", shape=(3, 1))\n",
    "    bias12 = tf.get_variable(name=\"bias12\", shape=(1,))\n",
    "    x = tf.matmul(x, weight12) + bias12\n",
    "loss_val = []\n",
    "preds = tf.nn.sigmoid(x)\n",
    "loss = tf.reduce_mean(tf.nn.sigmoid_cross_entropy_with_logits(labels=label, logits=x))\n",
    "learning_rate = tf.placeholder(tf.float32)\n",
    "optimizer = tf.train.GradientDescentOptimizer(learning_rate).minimize(loss)\n",
    "with tf.Session() as session3:\n",
    "    session3.run(tf.global_variables_initializer())\n",
    "    for step in range(10001):\n",
    "        if step < 3000:\n",
    "            lr = 1\n",
    "        elif step < 6000:\n",
    "            lr = 0.1\n",
    "        else:\n",
    "            lr = 0.01\n",
    "        _, l, pred = session3.run([optimizer, loss, preds],\n",
    "                                 feed_dict={data: train_data,\n",
    "                                            label: train_label,\n",
    "                                            learning_rate: lr})\n",
    "        loss_val.append([step, l])\n",
    "        if not step % 2000:\n",
    "            print('Step:{} -> Loss:{} -> Predictions{}'.format(step, l, pred))\n",
    "    loss_val = list(zip(*loss_val))\n",
    "    ii = range(0,10001,1000)\n",
    "    plt.plot(np.array(loss_val[0])[ii], np.array(loss_val[1])[ii], \"-.b\", label=\"loss\")"
   ]
  },
  {
   "cell_type": "code",
   "execution_count": null,
   "metadata": {},
   "outputs": [],
   "source": []
  }
 ],
 "metadata": {
  "kernelspec": {
   "display_name": "Python 3-tensorflow",
   "language": "python",
   "name": "tensorflow"
  },
  "language_info": {
   "codemirror_mode": {
    "name": "ipython",
    "version": 3
   },
   "file_extension": ".py",
   "mimetype": "text/x-python",
   "name": "python",
   "nbconvert_exporter": "python",
   "pygments_lexer": "ipython3",
   "version": "3.6.2"
  }
 },
 "nbformat": 4,
 "nbformat_minor": 2
}
